{
 "cells": [
  {
   "cell_type": "markdown",
   "id": "af64739c",
   "metadata": {},
   "source": [
    "## Standard Template for any ML program"
   ]
  },
  {
   "cell_type": "code",
   "execution_count": null,
   "id": "6f4333c2",
   "metadata": {},
   "outputs": [],
   "source": [
    "import pandas as pd\n",
    "import numpy as np\n",
    "import matplotlib.pyplot as plt"
   ]
  },
  {
   "cell_type": "markdown",
   "id": "8c9f45e6",
   "metadata": {},
   "source": [
    "### General Functions"
   ]
  },
  {
   "cell_type": "code",
   "execution_count": null,
   "id": "97e9c7cf",
   "metadata": {},
   "outputs": [],
   "source": [
    "from sklearn.metrics import confusion_matrix,ConfusionMatrixDisplay\n",
    "def showConfussionMatrix(y_test, y_pred, mytitle):\n",
    "    cm = confusion_matrix(y_test, y_pred)\n",
    "    disp = ConfusionMatrixDisplay(cm)\n",
    "    fig, ax = plt.subplots(figsize=(3,3))\n",
    "    disp.plot(ax=ax)\n",
    "    disp.ax_.set(title=mytitle)"
   ]
  },
  {
   "cell_type": "code",
   "execution_count": null,
   "id": "54559a16",
   "metadata": {},
   "outputs": [],
   "source": [
    "from sklearn.preprocessing import LabelEncoder\n",
    "def encodeClassVariable(df, colName):\n",
    "    df = df.rename(columns={colName:'class'})\n",
    "    encoder = LabelEncoder()\n",
    "    df['class_code'] = encoder.fit_transform(df['class'])\n",
    "    encoded_df = df[['class', 'class_code']].copy()\n",
    "    df.pop('class')\n",
    "    encoded_df.drop_duplicates(subset=None, keep=\"first\", inplace=True)\n",
    "    return encoded_df, df"
   ]
  },
  {
   "cell_type": "markdown",
   "id": "393c6c60",
   "metadata": {},
   "source": [
    "### Reading the csv"
   ]
  },
  {
   "cell_type": "code",
   "execution_count": null,
   "id": "9c59e5fb",
   "metadata": {},
   "outputs": [],
   "source": [
    "#df = pd.read_csv('ds/AthleteSelection.csv',index_col = 'Athlete')\n",
    "df = pd.read_csv('ds/wine.csv')\n",
    "df.head()"
   ]
  },
  {
   "cell_type": "code",
   "execution_count": null,
   "id": "11256d0f",
   "metadata": {},
   "outputs": [],
   "source": [
    "# Adding an index column\n",
    "#df['index'] = range(1, len(df) + 1)\n",
    "#df.head()"
   ]
  },
  {
   "cell_type": "code",
   "execution_count": null,
   "id": "1c55f6a2",
   "metadata": {},
   "outputs": [],
   "source": [
    "#df.set_index('index', inplace=True)\n",
    "#df.head()"
   ]
  },
  {
   "cell_type": "code",
   "execution_count": null,
   "id": "186b674f",
   "metadata": {},
   "outputs": [],
   "source": [
    "df.info()"
   ]
  },
  {
   "cell_type": "code",
   "execution_count": null,
   "id": "5ee2a5ab",
   "metadata": {},
   "outputs": [],
   "source": [
    "df.isnull().sum()"
   ]
  },
  {
   "cell_type": "code",
   "execution_count": null,
   "id": "c2512032",
   "metadata": {},
   "outputs": [],
   "source": [
    "encoded_df, df = encodeClassVariable(df, \"class\")\n",
    "df.head()"
   ]
  },
  {
   "cell_type": "code",
   "execution_count": null,
   "id": "c4d6d788",
   "metadata": {},
   "outputs": [],
   "source": [
    "encoded_df"
   ]
  },
  {
   "cell_type": "markdown",
   "id": "669fc279",
   "metadata": {},
   "source": [
    "### Generating x and y"
   ]
  },
  {
   "cell_type": "code",
   "execution_count": null,
   "id": "9d725c48",
   "metadata": {},
   "outputs": [],
   "source": [
    "x = df.iloc[:, :-1].values\n",
    "y = df.iloc[:, -1].values"
   ]
  },
  {
   "cell_type": "markdown",
   "id": "016cf0ce",
   "metadata": {},
   "source": [
    "### Splitting the dataset into the Training set and Test set"
   ]
  },
  {
   "cell_type": "code",
   "execution_count": null,
   "id": "3f3db5d3",
   "metadata": {},
   "outputs": [],
   "source": [
    "from sklearn.model_selection import train_test_split\n",
    "x_train, x_test, y_train, y_test = train_test_split(x, y, test_size = 0.2, random_state = 0)\n",
    "# For Random splitting \n",
    "# x_train, x_test, y_train, y_test = train_test_split(x, y, test_size = 0.2)"
   ]
  },
  {
   "cell_type": "code",
   "execution_count": null,
   "id": "9ddd5de5",
   "metadata": {},
   "outputs": [],
   "source": []
  }
 ],
 "metadata": {
  "kernelspec": {
   "display_name": "Python 3 (ipykernel)",
   "language": "python",
   "name": "python3"
  },
  "language_info": {
   "codemirror_mode": {
    "name": "ipython",
    "version": 3
   },
   "file_extension": ".py",
   "mimetype": "text/x-python",
   "name": "python",
   "nbconvert_exporter": "python",
   "pygments_lexer": "ipython3",
   "version": "3.8.3"
  }
 },
 "nbformat": 4,
 "nbformat_minor": 5
}
